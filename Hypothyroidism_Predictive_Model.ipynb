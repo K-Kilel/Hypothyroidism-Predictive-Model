{
  "nbformat": 4,
  "nbformat_minor": 0,
  "metadata": {
    "colab": {
      "name": "Hypothyroidism Predictive Model.ipynb",
      "provenance": [],
      "collapsed_sections": [
        "J4wfHZwQrs-t",
        "a9BPYqunry97",
        "7KMRBJ7zr9HD",
        "zSGyg6kWsBUl",
        "vTbdjSrhVIiT",
        "lQ2G4ZPDVOXE",
        "HPQviDmNtta8",
        "qjFHK1CKty7o",
        "HSsicSdvt4Zs"
      ],
      "include_colab_link": true
    },
    "kernelspec": {
      "name": "python3",
      "display_name": "Python 3"
    }
  },
  "cells": [
    {
      "cell_type": "markdown",
      "metadata": {
        "id": "view-in-github",
        "colab_type": "text"
      },
      "source": [
        "<a href=\"https://colab.research.google.com/github/K-Kilel/Hypothyroidism-Predictive-Model/blob/main/Hypothyroidism_Predictive_Model.ipynb\" target=\"_parent\"><img src=\"https://colab.research.google.com/assets/colab-badge.svg\" alt=\"Open In Colab\"/></a>"
      ]
    },
    {
      "cell_type": "markdown",
      "metadata": {
        "id": "xMxtPsqcTsSH"
      },
      "source": [
        "## **HYPOTHYROID PREDICTIVE MODEL**\n",
        "\n",
        "**RESEARCH QUESTION**\n",
        "\n",
        "Build a model that determines whether or not the patient's symptoms indicate that the patient has hypothyroid.\n",
        "\n",
        "**METRICS FOR SUCCESS**\n",
        "\n",
        "Create a predictive using two advanced decision trees to Random forests, Ada boosted trees or gradient boosted trees and optimize to get accurate results.\n",
        "\n",
        "Apply Polynomial, linear and rbf kernel function to build your SVM model.\n",
        "\n",
        "The models should have an accuracy greater than 80%.\n",
        "\n",
        "**UNDERSTANDING THE CONTEXT** \n",
        "\n",
        "Nairobi Hospital conducted a clinical camp to test for hypothyroidism. The data collected focused on Thyroid patients. Use the healthcare datasets provided to create a predictive model.\n",
        "\n",
        "**EXPERIMENTAL DESIGN**\n",
        "\n",
        "Define the question, the metric for success, the context, experimental design taken.\n",
        "\n",
        "Read and explore the given dataset.\n",
        "\n",
        "Define the appropriateness of the available data to answer the given question.\n",
        "\n",
        "Find and deal with outliers, anomalies, and missing data within the dataset.\n",
        "\n",
        "Perform univariate, bivariate and multivariate analysis recording your observations.\n",
        "\n",
        "Performing regression analysis as a base model.\n",
        "\n",
        "Create a model based on decision trees.\n",
        "\n",
        "Create a model based on SVM.\n",
        "\n",
        "Conclusion.\n",
        "\n",
        "\n",
        "**DATA RELEVANCE**\n",
        "\n",
        "This data was collected by Nairobi Hospital. The link to the dataset is provided below:\n",
        "\n",
        "http://bit.ly/hypothyroid_data"
      ]
    },
    {
      "cell_type": "markdown",
      "metadata": {
        "id": "2IlRzt7yug11"
      },
      "source": [
        "## **Reading the Data**"
      ]
    },
    {
      "cell_type": "code",
      "metadata": {
        "id": "Ks4YDoIpqFTb"
      },
      "source": [
        "# Importing the required libraries\n",
        "import pandas as pd\n",
        "import numpy as np\n",
        "import seaborn as sb\n",
        "from sklearn.preprocessing import LabelEncoder\n",
        "import matplotlib.pyplot as plt\n",
        "from sklearn.preprocessing import PolynomialFeatures\n",
        "from sklearn.model_selection import train_test_split\n",
        "from sklearn.linear_model import LinearRegression\n",
        "from sklearn.decomposition import PCA\n",
        "from sklearn.model_selection import train_test_split,GridSearchCV\n",
        "from sklearn.linear_model import LogisticRegression\n",
        "from sklearn.ensemble import RandomForestClassifier\n",
        "from sklearn.naive_bayes import GaussianNB\n",
        "from sklearn.metrics import mean_squared_error,r2_score,accuracy_score,f1_score,classification_report\n",
        "from sklearn.metrics import confusion_matrix\n",
        "from sklearn import metrics\n",
        "import warnings\n",
        "warnings.filterwarnings('ignore')\n",
        "%matplotlib inline"
      ],
      "execution_count": 279,
      "outputs": []
    },
    {
      "cell_type": "markdown",
      "metadata": {
        "id": "RIK0QMTEPx-6"
      },
      "source": [
        "### **Reading the data**"
      ]
    },
    {
      "cell_type": "code",
      "metadata": {
        "id": "bw1TpUB5rLob"
      },
      "source": [
        "# loading the dataset \n",
        "hypo_df = pd.read_csv('hypothyroid.csv')\n"
      ],
      "execution_count": 280,
      "outputs": []
    },
    {
      "cell_type": "markdown",
      "metadata": {
        "id": "UZXGa34lv3S8"
      },
      "source": [
        "### **Checking the data**"
      ]
    },
    {
      "cell_type": "code",
      "metadata": {
        "colab": {
          "base_uri": "https://localhost:8080/",
          "height": 226
        },
        "id": "6F20Nw41vUe5",
        "outputId": "de1bdcbd-d64e-4cf3-ef74-92e0e5c99ebc"
      },
      "source": [
        "# Previewing the top records of the dataset\n",
        "\n",
        "hypothyroid.head()"
      ],
      "execution_count": 281,
      "outputs": [
        {
          "output_type": "execute_result",
          "data": {
            "text/html": [
              "<div>\n",
              "<style scoped>\n",
              "    .dataframe tbody tr th:only-of-type {\n",
              "        vertical-align: middle;\n",
              "    }\n",
              "\n",
              "    .dataframe tbody tr th {\n",
              "        vertical-align: top;\n",
              "    }\n",
              "\n",
              "    .dataframe thead th {\n",
              "        text-align: right;\n",
              "    }\n",
              "</style>\n",
              "<table border=\"1\" class=\"dataframe\">\n",
              "  <thead>\n",
              "    <tr style=\"text-align: right;\">\n",
              "      <th></th>\n",
              "      <th>status</th>\n",
              "      <th>age</th>\n",
              "      <th>sex</th>\n",
              "      <th>on_thyroxine</th>\n",
              "      <th>query_on_thyroxine</th>\n",
              "      <th>on_antithyroid_medication</th>\n",
              "      <th>thyroid_surgery</th>\n",
              "      <th>query_hypothyroid</th>\n",
              "      <th>query_hyperthyroid</th>\n",
              "      <th>pregnant</th>\n",
              "      <th>sick</th>\n",
              "      <th>tumor</th>\n",
              "      <th>lithium</th>\n",
              "      <th>goitre</th>\n",
              "      <th>TSH_measured</th>\n",
              "      <th>TSH</th>\n",
              "      <th>T3_measured</th>\n",
              "      <th>T3</th>\n",
              "      <th>TT4_measured</th>\n",
              "      <th>TT4</th>\n",
              "      <th>T4U_measured</th>\n",
              "      <th>T4U</th>\n",
              "      <th>FTI_measured</th>\n",
              "      <th>FTI</th>\n",
              "      <th>TBG_measured</th>\n",
              "      <th>TBG</th>\n",
              "    </tr>\n",
              "  </thead>\n",
              "  <tbody>\n",
              "    <tr>\n",
              "      <th>0</th>\n",
              "      <td>hypothyroid</td>\n",
              "      <td>72.0</td>\n",
              "      <td>M</td>\n",
              "      <td>f</td>\n",
              "      <td>f</td>\n",
              "      <td>f</td>\n",
              "      <td>f</td>\n",
              "      <td>f</td>\n",
              "      <td>f</td>\n",
              "      <td>f</td>\n",
              "      <td>f</td>\n",
              "      <td>f</td>\n",
              "      <td>f</td>\n",
              "      <td>f</td>\n",
              "      <td>y</td>\n",
              "      <td>30</td>\n",
              "      <td>y</td>\n",
              "      <td>0</td>\n",
              "      <td>y</td>\n",
              "      <td>15</td>\n",
              "      <td>y</td>\n",
              "      <td>1</td>\n",
              "      <td>y</td>\n",
              "      <td>10</td>\n",
              "      <td>n</td>\n",
              "      <td>0</td>\n",
              "    </tr>\n",
              "    <tr>\n",
              "      <th>1</th>\n",
              "      <td>hypothyroid</td>\n",
              "      <td>15.0</td>\n",
              "      <td>F</td>\n",
              "      <td>t</td>\n",
              "      <td>f</td>\n",
              "      <td>f</td>\n",
              "      <td>f</td>\n",
              "      <td>f</td>\n",
              "      <td>f</td>\n",
              "      <td>f</td>\n",
              "      <td>f</td>\n",
              "      <td>f</td>\n",
              "      <td>f</td>\n",
              "      <td>f</td>\n",
              "      <td>y</td>\n",
              "      <td>145</td>\n",
              "      <td>y</td>\n",
              "      <td>1</td>\n",
              "      <td>y</td>\n",
              "      <td>19</td>\n",
              "      <td>y</td>\n",
              "      <td>1</td>\n",
              "      <td>y</td>\n",
              "      <td>17</td>\n",
              "      <td>n</td>\n",
              "      <td>0</td>\n",
              "    </tr>\n",
              "    <tr>\n",
              "      <th>2</th>\n",
              "      <td>hypothyroid</td>\n",
              "      <td>24.0</td>\n",
              "      <td>M</td>\n",
              "      <td>f</td>\n",
              "      <td>f</td>\n",
              "      <td>f</td>\n",
              "      <td>f</td>\n",
              "      <td>f</td>\n",
              "      <td>f</td>\n",
              "      <td>f</td>\n",
              "      <td>f</td>\n",
              "      <td>f</td>\n",
              "      <td>f</td>\n",
              "      <td>f</td>\n",
              "      <td>y</td>\n",
              "      <td>0</td>\n",
              "      <td>y</td>\n",
              "      <td>0</td>\n",
              "      <td>y</td>\n",
              "      <td>4</td>\n",
              "      <td>y</td>\n",
              "      <td>1</td>\n",
              "      <td>y</td>\n",
              "      <td>0</td>\n",
              "      <td>n</td>\n",
              "      <td>0</td>\n",
              "    </tr>\n",
              "    <tr>\n",
              "      <th>3</th>\n",
              "      <td>hypothyroid</td>\n",
              "      <td>24.0</td>\n",
              "      <td>F</td>\n",
              "      <td>f</td>\n",
              "      <td>f</td>\n",
              "      <td>f</td>\n",
              "      <td>f</td>\n",
              "      <td>f</td>\n",
              "      <td>f</td>\n",
              "      <td>f</td>\n",
              "      <td>f</td>\n",
              "      <td>f</td>\n",
              "      <td>f</td>\n",
              "      <td>f</td>\n",
              "      <td>y</td>\n",
              "      <td>430</td>\n",
              "      <td>y</td>\n",
              "      <td>0</td>\n",
              "      <td>y</td>\n",
              "      <td>6</td>\n",
              "      <td>y</td>\n",
              "      <td>1</td>\n",
              "      <td>y</td>\n",
              "      <td>6</td>\n",
              "      <td>n</td>\n",
              "      <td>0</td>\n",
              "    </tr>\n",
              "    <tr>\n",
              "      <th>4</th>\n",
              "      <td>hypothyroid</td>\n",
              "      <td>77.0</td>\n",
              "      <td>M</td>\n",
              "      <td>f</td>\n",
              "      <td>f</td>\n",
              "      <td>f</td>\n",
              "      <td>f</td>\n",
              "      <td>f</td>\n",
              "      <td>f</td>\n",
              "      <td>f</td>\n",
              "      <td>f</td>\n",
              "      <td>f</td>\n",
              "      <td>f</td>\n",
              "      <td>f</td>\n",
              "      <td>y</td>\n",
              "      <td>7</td>\n",
              "      <td>y</td>\n",
              "      <td>1</td>\n",
              "      <td>y</td>\n",
              "      <td>57</td>\n",
              "      <td>y</td>\n",
              "      <td>1</td>\n",
              "      <td>y</td>\n",
              "      <td>44</td>\n",
              "      <td>n</td>\n",
              "      <td>0</td>\n",
              "    </tr>\n",
              "  </tbody>\n",
              "</table>\n",
              "</div>"
            ],
            "text/plain": [
              "        status   age sex on_thyroxine  ... FTI_measured FTI TBG_measured TBG\n",
              "0  hypothyroid  72.0   M            f  ...            y  10            n   0\n",
              "1  hypothyroid  15.0   F            t  ...            y  17            n   0\n",
              "2  hypothyroid  24.0   M            f  ...            y   0            n   0\n",
              "3  hypothyroid  24.0   F            f  ...            y   6            n   0\n",
              "4  hypothyroid  77.0   M            f  ...            y  44            n   0\n",
              "\n",
              "[5 rows x 26 columns]"
            ]
          },
          "metadata": {},
          "execution_count": 281
        }
      ]
    },
    {
      "cell_type": "code",
      "metadata": {
        "colab": {
          "base_uri": "https://localhost:8080/",
          "height": 226
        },
        "id": "aXuyB2H4vmTL",
        "outputId": "d796b4b5-7b28-4699-802b-6f99a48dc467"
      },
      "source": [
        "# Previewing the bottom records of the dataset\n",
        "\n",
        "hypothyroid.tail()"
      ],
      "execution_count": 282,
      "outputs": [
        {
          "output_type": "execute_result",
          "data": {
            "text/html": [
              "<div>\n",
              "<style scoped>\n",
              "    .dataframe tbody tr th:only-of-type {\n",
              "        vertical-align: middle;\n",
              "    }\n",
              "\n",
              "    .dataframe tbody tr th {\n",
              "        vertical-align: top;\n",
              "    }\n",
              "\n",
              "    .dataframe thead th {\n",
              "        text-align: right;\n",
              "    }\n",
              "</style>\n",
              "<table border=\"1\" class=\"dataframe\">\n",
              "  <thead>\n",
              "    <tr style=\"text-align: right;\">\n",
              "      <th></th>\n",
              "      <th>status</th>\n",
              "      <th>age</th>\n",
              "      <th>sex</th>\n",
              "      <th>on_thyroxine</th>\n",
              "      <th>query_on_thyroxine</th>\n",
              "      <th>on_antithyroid_medication</th>\n",
              "      <th>thyroid_surgery</th>\n",
              "      <th>query_hypothyroid</th>\n",
              "      <th>query_hyperthyroid</th>\n",
              "      <th>pregnant</th>\n",
              "      <th>sick</th>\n",
              "      <th>tumor</th>\n",
              "      <th>lithium</th>\n",
              "      <th>goitre</th>\n",
              "      <th>TSH_measured</th>\n",
              "      <th>TSH</th>\n",
              "      <th>T3_measured</th>\n",
              "      <th>T3</th>\n",
              "      <th>TT4_measured</th>\n",
              "      <th>TT4</th>\n",
              "      <th>T4U_measured</th>\n",
              "      <th>T4U</th>\n",
              "      <th>FTI_measured</th>\n",
              "      <th>FTI</th>\n",
              "      <th>TBG_measured</th>\n",
              "      <th>TBG</th>\n",
              "    </tr>\n",
              "  </thead>\n",
              "  <tbody>\n",
              "    <tr>\n",
              "      <th>3158</th>\n",
              "      <td>negative</td>\n",
              "      <td>58.0</td>\n",
              "      <td>F</td>\n",
              "      <td>f</td>\n",
              "      <td>f</td>\n",
              "      <td>f</td>\n",
              "      <td>f</td>\n",
              "      <td>f</td>\n",
              "      <td>f</td>\n",
              "      <td>f</td>\n",
              "      <td>f</td>\n",
              "      <td>f</td>\n",
              "      <td>f</td>\n",
              "      <td>f</td>\n",
              "      <td>y</td>\n",
              "      <td>5</td>\n",
              "      <td>y</td>\n",
              "      <td>1</td>\n",
              "      <td>y</td>\n",
              "      <td>86</td>\n",
              "      <td>y</td>\n",
              "      <td>0</td>\n",
              "      <td>y</td>\n",
              "      <td>95</td>\n",
              "      <td>n</td>\n",
              "      <td>0</td>\n",
              "    </tr>\n",
              "    <tr>\n",
              "      <th>3159</th>\n",
              "      <td>negative</td>\n",
              "      <td>29.0</td>\n",
              "      <td>F</td>\n",
              "      <td>f</td>\n",
              "      <td>f</td>\n",
              "      <td>f</td>\n",
              "      <td>f</td>\n",
              "      <td>f</td>\n",
              "      <td>f</td>\n",
              "      <td>f</td>\n",
              "      <td>f</td>\n",
              "      <td>f</td>\n",
              "      <td>f</td>\n",
              "      <td>f</td>\n",
              "      <td>y</td>\n",
              "      <td>0</td>\n",
              "      <td>y</td>\n",
              "      <td>1</td>\n",
              "      <td>y</td>\n",
              "      <td>99</td>\n",
              "      <td>y</td>\n",
              "      <td>1</td>\n",
              "      <td>y</td>\n",
              "      <td>98</td>\n",
              "      <td>n</td>\n",
              "      <td>0</td>\n",
              "    </tr>\n",
              "    <tr>\n",
              "      <th>3160</th>\n",
              "      <td>negative</td>\n",
              "      <td>77.0</td>\n",
              "      <td>M</td>\n",
              "      <td>f</td>\n",
              "      <td>f</td>\n",
              "      <td>f</td>\n",
              "      <td>f</td>\n",
              "      <td>f</td>\n",
              "      <td>f</td>\n",
              "      <td>f</td>\n",
              "      <td>f</td>\n",
              "      <td>f</td>\n",
              "      <td>f</td>\n",
              "      <td>f</td>\n",
              "      <td>y</td>\n",
              "      <td>1</td>\n",
              "      <td>y</td>\n",
              "      <td>0</td>\n",
              "      <td>y</td>\n",
              "      <td>71</td>\n",
              "      <td>y</td>\n",
              "      <td>0</td>\n",
              "      <td>y</td>\n",
              "      <td>104</td>\n",
              "      <td>n</td>\n",
              "      <td>0</td>\n",
              "    </tr>\n",
              "    <tr>\n",
              "      <th>3161</th>\n",
              "      <td>negative</td>\n",
              "      <td>74.0</td>\n",
              "      <td>F</td>\n",
              "      <td>f</td>\n",
              "      <td>f</td>\n",
              "      <td>f</td>\n",
              "      <td>f</td>\n",
              "      <td>f</td>\n",
              "      <td>f</td>\n",
              "      <td>f</td>\n",
              "      <td>f</td>\n",
              "      <td>f</td>\n",
              "      <td>f</td>\n",
              "      <td>f</td>\n",
              "      <td>y</td>\n",
              "      <td>1</td>\n",
              "      <td>y</td>\n",
              "      <td>0</td>\n",
              "      <td>y</td>\n",
              "      <td>65</td>\n",
              "      <td>y</td>\n",
              "      <td>0</td>\n",
              "      <td>y</td>\n",
              "      <td>137</td>\n",
              "      <td>n</td>\n",
              "      <td>0</td>\n",
              "    </tr>\n",
              "    <tr>\n",
              "      <th>3162</th>\n",
              "      <td>negative</td>\n",
              "      <td>56.0</td>\n",
              "      <td>F</td>\n",
              "      <td>t</td>\n",
              "      <td>f</td>\n",
              "      <td>f</td>\n",
              "      <td>f</td>\n",
              "      <td>f</td>\n",
              "      <td>f</td>\n",
              "      <td>f</td>\n",
              "      <td>f</td>\n",
              "      <td>f</td>\n",
              "      <td>f</td>\n",
              "      <td>f</td>\n",
              "      <td>y</td>\n",
              "      <td>0</td>\n",
              "      <td>y</td>\n",
              "      <td>1</td>\n",
              "      <td>y</td>\n",
              "      <td>139</td>\n",
              "      <td>y</td>\n",
              "      <td>0</td>\n",
              "      <td>y</td>\n",
              "      <td>143</td>\n",
              "      <td>n</td>\n",
              "      <td>0</td>\n",
              "    </tr>\n",
              "  </tbody>\n",
              "</table>\n",
              "</div>"
            ],
            "text/plain": [
              "        status   age sex on_thyroxine  ... FTI_measured  FTI TBG_measured TBG\n",
              "3158  negative  58.0   F            f  ...            y   95            n   0\n",
              "3159  negative  29.0   F            f  ...            y   98            n   0\n",
              "3160  negative  77.0   M            f  ...            y  104            n   0\n",
              "3161  negative  74.0   F            f  ...            y  137            n   0\n",
              "3162  negative  56.0   F            t  ...            y  143            n   0\n",
              "\n",
              "[5 rows x 26 columns]"
            ]
          },
          "metadata": {},
          "execution_count": 282
        }
      ]
    },
    {
      "cell_type": "code",
      "metadata": {
        "id": "XJn2KjW-WMlG",
        "colab": {
          "base_uri": "https://localhost:8080/"
        },
        "outputId": "500286da-d238-461c-94a2-da238e5e317e"
      },
      "source": [
        "# Determining the number of records in our dataset\n",
        "\n",
        "hypothyroid.shape\n"
      ],
      "execution_count": 283,
      "outputs": [
        {
          "output_type": "execute_result",
          "data": {
            "text/plain": [
              "(3079, 26)"
            ]
          },
          "metadata": {},
          "execution_count": 283
        }
      ]
    },
    {
      "cell_type": "code",
      "metadata": {
        "colab": {
          "base_uri": "https://localhost:8080/"
        },
        "id": "M2buNK3IwY-W",
        "outputId": "c68de827-a35a-496b-ccbe-c544936a3f9a"
      },
      "source": [
        "# Checking the data types\n",
        "\n",
        "hypothyroid.dtypes"
      ],
      "execution_count": 284,
      "outputs": [
        {
          "output_type": "execute_result",
          "data": {
            "text/plain": [
              "status                       category\n",
              "age                           float64\n",
              "sex                            object\n",
              "on_thyroxine                   object\n",
              "query_on_thyroxine             object\n",
              "on_antithyroid_medication      object\n",
              "thyroid_surgery                object\n",
              "query_hypothyroid              object\n",
              "query_hyperthyroid             object\n",
              "pregnant                       object\n",
              "sick                           object\n",
              "tumor                          object\n",
              "lithium                        object\n",
              "goitre                         object\n",
              "TSH_measured                   object\n",
              "TSH                             int64\n",
              "T3_measured                    object\n",
              "T3                              int64\n",
              "TT4_measured                   object\n",
              "TT4                             int64\n",
              "T4U_measured                   object\n",
              "T4U                             int64\n",
              "FTI_measured                   object\n",
              "FTI                             int64\n",
              "TBG_measured                   object\n",
              "TBG                             int64\n",
              "dtype: object"
            ]
          },
          "metadata": {},
          "execution_count": 284
        }
      ]
    },
    {
      "cell_type": "markdown",
      "metadata": {
        "id": "zn3p6q2-h-lx"
      },
      "source": [
        "### **Tidying the Dataset**"
      ]
    },
    {
      "cell_type": "markdown",
      "metadata": {
        "id": "zmQ_UkkaiEUQ"
      },
      "source": [
        "###Missing Values"
      ]
    },
    {
      "cell_type": "code",
      "metadata": {
        "id": "ZEoMgqOA4upS",
        "colab": {
          "base_uri": "https://localhost:8080/"
        },
        "outputId": "397fe8ef-9774-4528-b17b-95df5f0a5ec9"
      },
      "source": [
        "# Checking for missing data\n",
        "\n",
        "hypothyroid.isnull().sum()"
      ],
      "execution_count": 285,
      "outputs": [
        {
          "output_type": "execute_result",
          "data": {
            "text/plain": [
              "status                       0\n",
              "age                          0\n",
              "sex                          0\n",
              "on_thyroxine                 0\n",
              "query_on_thyroxine           0\n",
              "on_antithyroid_medication    0\n",
              "thyroid_surgery              0\n",
              "query_hypothyroid            0\n",
              "query_hyperthyroid           0\n",
              "pregnant                     0\n",
              "sick                         0\n",
              "tumor                        0\n",
              "lithium                      0\n",
              "goitre                       0\n",
              "TSH_measured                 0\n",
              "TSH                          0\n",
              "T3_measured                  0\n",
              "T3                           0\n",
              "TT4_measured                 0\n",
              "TT4                          0\n",
              "T4U_measured                 0\n",
              "T4U                          0\n",
              "FTI_measured                 0\n",
              "FTI                          0\n",
              "TBG_measured                 0\n",
              "TBG                          0\n",
              "dtype: int64"
            ]
          },
          "metadata": {},
          "execution_count": 285
        }
      ]
    },
    {
      "cell_type": "markdown",
      "metadata": {
        "id": "dFLYL8sXwyqa"
      },
      "source": [
        "There are no missing data in our dataset"
      ]
    },
    {
      "cell_type": "code",
      "metadata": {
        "id": "MuK6fsub6V4G",
        "colab": {
          "base_uri": "https://localhost:8080/"
        },
        "outputId": "1630bd59-a7d3-48c9-98b4-74a2a542648c"
      },
      "source": [
        "# Checking for duplicates\n",
        "\n",
        "hypothyroid.duplicated().sum()"
      ],
      "execution_count": 286,
      "outputs": [
        {
          "output_type": "execute_result",
          "data": {
            "text/plain": [
              "0"
            ]
          },
          "metadata": {},
          "execution_count": 286
        }
      ]
    },
    {
      "cell_type": "code",
      "metadata": {
        "id": "EKgl_CGbxDO9"
      },
      "source": [
        "# Dropping the duplicates\n",
        "\n",
        "hypothyroid.drop_duplicates(inplace=True)"
      ],
      "execution_count": 287,
      "outputs": []
    },
    {
      "cell_type": "code",
      "metadata": {
        "id": "KfkBQpIbWe6C",
        "colab": {
          "base_uri": "https://localhost:8080/"
        },
        "outputId": "dd975bc7-f6fa-4213-80c4-cd09263aa5c0"
      },
      "source": [
        "# Previewing the unique values in each column\n",
        "\n",
        "for column in hypothyroid.columns:           \n",
        "  print(column)                                \n",
        "  print(hypothyroid_1[column].unique())              \n",
        "  print('\\n')      "
      ],
      "execution_count": 288,
      "outputs": [
        {
          "output_type": "stream",
          "name": "stdout",
          "text": [
            "status\n",
            "['hypothyroid', 'negative']\n",
            "Categories (2, object): ['hypothyroid', 'negative']\n",
            "\n",
            "\n",
            "age\n",
            "[72. 15. 24. 77. 85. 64. 20. 42. 69. 75. 53. 59. 68. 50. 78. 65. 28. 43.\n",
            " 40. 84. nan 83. 63. 73. 36. 27. 48. 71. 60. 34. 79. 62. 74. 32. 41. 70.\n",
            " 29.  5. 58. 35. 51. 22. 16. 44. 39. 47. 18. 17. 88. 56. 30. 45. 66. 52.\n",
            " 54. 80. 33. 38. 92. 67. 46. 13. 89. 61. 49. 26. 57. 31. 90. 81. 25. 37.\n",
            " 76. 87. 23. 55. 86. 98. 21. 97.  1.  6. 14. 82. 11. 19.  9. 12. 10.  8.\n",
            "  7.  4. 93.]\n",
            "\n",
            "\n",
            "sex\n",
            "['M', 'F', NaN]\n",
            "Categories (2, object): ['M', 'F']\n",
            "\n",
            "\n",
            "on_thyroxine\n",
            "['f', 't']\n",
            "Categories (2, object): ['f', 't']\n",
            "\n",
            "\n",
            "query_on_thyroxine\n",
            "['f', 't']\n",
            "Categories (2, object): ['f', 't']\n",
            "\n",
            "\n",
            "on_antithyroid_medication\n",
            "['f', 't']\n",
            "Categories (2, object): ['f', 't']\n",
            "\n",
            "\n",
            "thyroid_surgery\n",
            "['f', 't']\n",
            "Categories (2, object): ['f', 't']\n",
            "\n",
            "\n",
            "query_hypothyroid\n",
            "['f', 't']\n",
            "Categories (2, object): ['f', 't']\n",
            "\n",
            "\n",
            "query_hyperthyroid\n",
            "['f', 't']\n",
            "Categories (2, object): ['f', 't']\n",
            "\n",
            "\n",
            "pregnant\n",
            "['f', 't']\n",
            "Categories (2, object): ['f', 't']\n",
            "\n",
            "\n",
            "sick\n",
            "['f', 't']\n",
            "Categories (2, object): ['f', 't']\n",
            "\n",
            "\n",
            "tumor\n",
            "['f', 't']\n",
            "Categories (2, object): ['f', 't']\n",
            "\n",
            "\n",
            "lithium\n",
            "['f', 't']\n",
            "Categories (2, object): ['f', 't']\n",
            "\n",
            "\n",
            "goitre\n",
            "['f', 't']\n",
            "Categories (2, object): ['f', 't']\n",
            "\n",
            "\n",
            "TSH_measured\n",
            "['y', 'n']\n",
            "Categories (2, object): ['y', 'n']\n",
            "\n",
            "\n",
            "TSH\n",
            "[3.00e+01 1.45e+02 0.00e+00 4.30e+02 7.30e+00 1.38e+02 7.70e+00 2.10e+01\n",
            " 9.20e+01 4.80e+01 3.60e+01 1.50e+01 1.53e+01 2.50e+01 6.10e+01 2.80e+01\n",
            " 1.70e+02 5.40e+01 2.16e+02 5.60e+01 7.10e+01 4.60e+01 7.00e+01 3.40e+01\n",
            " 5.30e+01 9.40e+00 1.26e+02 1.00e+01 5.30e+02 3.50e+01 6.50e+01 5.70e+01\n",
            " 1.25e+02 2.30e+01 8.00e+01 1.17e+02 4.90e+01 6.60e+01 8.20e+00 1.50e+02\n",
            "      nan 1.80e+01 1.65e+02 1.64e+02 2.40e+01 9.00e+01 7.70e+01 1.90e+01\n",
            " 5.80e+01 1.00e+02 2.13e+02 1.70e+01 2.35e+02 1.53e+02 1.30e+01 3.10e+01\n",
            " 1.09e+02 2.60e+02 4.30e+01 1.20e+01 1.10e+01 5.50e+01 6.50e+00 2.00e+01\n",
            " 7.50e+00 1.40e+01 6.00e+01 1.40e+02 3.30e+01 8.70e+00 2.50e-01 1.07e+01\n",
            " 8.20e+01 4.50e+01 4.20e+01 4.10e+01 1.60e+02 1.60e+01 8.90e+01 4.40e+01\n",
            " 1.76e+02 6.40e+00 1.83e+02 2.90e+01 3.70e+01 3.90e+01 7.90e+00 5.90e+01\n",
            " 6.80e+01 3.80e+01 4.70e+01 1.43e+02 6.60e+00 2.88e+02 9.60e+01 5.00e-01\n",
            " 1.20e+00 1.90e+00 9.00e-02 3.10e+00 4.00e-01 8.50e-01 3.00e-01 9.00e-01\n",
            " 1.50e+00 4.60e+00 2.00e-01 5.80e+00 4.00e+00 1.40e+00 2.00e+00 2.60e+00\n",
            " 2.90e+00 8.00e-01 4.90e+00 1.03e+01 2.30e+00 7.00e-01 6.00e-01 1.30e+00\n",
            " 2.50e+00 5.10e+00 1.70e+00 2.70e+00 2.20e+01 8.10e+00 3.30e+00 5.00e+00\n",
            " 3.20e+00 1.80e+00 1.10e+00 4.60e-01 1.00e+00 5.60e+00 4.40e+00 1.65e+01\n",
            " 2.10e+00 6.30e+00 5.50e+00 7.40e+00 5.90e+00 1.50e-01 1.49e+01 2.20e+00\n",
            " 9.70e+00 9.60e+00 1.60e+00 3.70e+00 3.00e+00 2.80e+00 1.00e-01 4.20e+00\n",
            " 2.70e+01 3.50e+00 5.00e-02 1.92e+01 8.00e+00 9.10e+00 3.60e+00 7.80e+00\n",
            " 3.80e+00 8.50e+00 9.20e+00 5.20e+01 2.40e+00 3.90e+00 3.00e-02 4.00e-02\n",
            " 2.60e+01 6.10e+00 6.50e-01 9.20e-01 7.60e+00 8.40e+00 1.44e+01 1.05e+00\n",
            " 3.70e-01 1.78e+02 6.90e+00 4.50e+00 4.70e+00 4.00e+01 6.00e+00 4.10e+00\n",
            " 1.43e+01 5.40e+00 8.30e+00 6.00e-02 8.80e+00 8.90e+00 7.10e+00 4.80e+00\n",
            " 4.30e-01 6.70e+00 2.00e+02 8.60e+00 8.60e+01 2.10e-01 9.00e+00 2.60e-01\n",
            " 3.40e+00 6.20e+00 1.74e+01 8.50e+01 1.83e+00 6.30e+01 1.33e+01 2.00e-02\n",
            " 4.20e-01 9.50e+00 8.40e-01 8.80e-01 4.30e+00 6.70e-01 8.10e-01 5.20e+00\n",
            " 9.80e+00 7.60e+01 6.20e-01 1.00e-02 1.14e+01 8.80e+01 6.80e-01 7.00e-02\n",
            " 6.90e-01 7.70e-01 9.90e+00 6.40e-01 1.32e+01 6.80e+00 2.80e-01 1.16e+01\n",
            " 9.10e-01 1.01e+00 2.30e-01 3.50e-01 5.00e+01 3.20e+01 8.30e-01 8.00e-02]\n",
            "\n",
            "\n",
            "T3_measured\n",
            "['y', 'n']\n",
            "Categories (2, object): ['y', 'n']\n",
            "\n",
            "\n",
            "T3\n",
            "[ 0.6   1.7   0.2   0.4   1.2   1.1   1.3   1.9    nan  0.8   2.2   1.5\n",
            "  2.7   2.    0.3   2.1   0.5   0.7   1.    1.4   2.3   2.4   0.9   1.8\n",
            "  0.    2.8   1.6   6.7   3.3   3.    2.5   2.6   4.    9.8   3.9   3.4\n",
            "  3.8   4.5   3.2   3.7   4.3   2.9   3.1   3.5   3.6   6.6   4.9   8.9\n",
            "  4.1   5.    5.3   7.6   7.3   4.2   4.4   5.1   7.    0.1   0.05  4.7\n",
            "  6.2   5.5   4.6   6.1   8.1   5.2   5.6   4.8  10.2   8.6 ]\n",
            "\n",
            "\n",
            "TT4_measured\n",
            "['y', 'n']\n",
            "Categories (2, object): ['y', 'n']\n",
            "\n",
            "\n",
            "TT4\n",
            "[ 15.   19.    4.    6.   57.   27.   54.   34.   39.    7.6  53.   38.\n",
            "  98.   44.   37.   81.   13.   17.   12.   50.   23.   14.    3.9  52.\n",
            "  32.   30.   84.   10.   55.   24.   28.   11.    6.6  31.   33.   41.\n",
            "   9.   78.   42.    8.1  65.   16.    9.7  46.   22.   61.    2.3  21.\n",
            "   7.5  18.   66.   25.   43.    2.    3.   58.   59.   71.   74.   56.\n",
            "  40.   20.   48.  230.   70.    4.1  63.    5.3   2.9  62.   75.   68.\n",
            "  45.   47.   36.   80.  109.    8.6  83.   82.  101.   76.  103.  112.\n",
            " 206.  110.   93.   79.  121.    nan 107.   88.  187.  254.  115.  113.\n",
            " 260.  117.  164.   97.   64.  129.  111.  106.   95.   87.  105.   90.\n",
            "  67.  134.   35.  193.  143.  130.  108.   86.   96.   92.   99.  216.\n",
            " 152.  125.  138.  194.   91.  120.  102.  170.  126.  116.  140.   94.\n",
            " 159.   85.  210.   89.  151.  247.  139.  153.  178.  123.  137.  161.\n",
            "   7.3  72.  202.  122.  124.  157.  118.  104.  135.  186.  241.  131.\n",
            " 119.  100.  220.  176.  136.  183.  155.  208.  199.  154.  169.  128.\n",
            " 235.  195.  267.  232.  197.  212.  149.  127.  245.  132.  162.   77.\n",
            " 142.   69.  173.  141.  156.  181.  189.   60.  114.  198.  147.  191.\n",
            " 177.  174.  207.  168.   73.  160.  145.  200.  182.  158.  203.  209.\n",
            " 217.  430.  213.  218.  163.  296.  167.  148.  166.  185.  248.  172.\n",
            " 144.  150.  165.  196.  308.  146.  426.  224.   29.  204.  201.  133.\n",
            " 180.  184.  450.  244.  301.  255.  252.  396.  223.  261.  250.  179.\n",
            " 219.  190.   51.  221.  171.  242.  275.  211.   49.  239.  205.  222.\n",
            " 256.  214.  282.  287.  253.  269.  175.  228.  333.  258.  236.  225.\n",
            " 263.  283.  359.  188.  240. ]\n",
            "\n",
            "\n",
            "T4U_measured\n",
            "['y', 'n']\n",
            "Categories (2, object): ['y', 'n']\n",
            "\n",
            "\n",
            "T4U\n",
            "[1.48 1.13 1.   1.04 1.28 1.19 0.86 1.05 1.21 1.02 0.92 1.29 0.98 1.08\n",
            " 1.01 1.18 1.1  1.27 0.83 1.11 0.78 1.39 1.12 0.93 0.99 0.9  1.06 0.68\n",
            " 0.67 1.14 0.8  0.96 0.95 1.46 1.03 0.97 0.94 1.09 1.24 1.23 1.53 1.26\n",
            " 1.4  1.17 0.87 0.61 0.7  1.07 1.73 1.45 1.2  0.89 0.84 0.91 0.85 1.35\n",
            " 0.82 1.5  0.74 1.71 1.79 0.73 0.77 1.25  nan 0.88 0.72 0.31 0.   0.79\n",
            " 0.81 0.71 1.93 1.32 0.66 1.68 1.42 1.7  1.83 1.41 1.34 1.65 1.22 0.75\n",
            " 1.74 0.69 1.51 0.76 1.16 0.35 0.62 0.54 1.36 1.33 1.3  0.48 1.59 1.75\n",
            " 1.86 1.38 1.43 1.62 2.01 0.3  1.31 1.15 1.57 0.55 1.66 0.52 1.97 1.47\n",
            " 0.36 1.88 1.55 0.34 1.67 0.58 0.6  0.59 1.37 1.76 0.64 1.8  0.41 0.2\n",
            " 1.77 0.33 1.54 0.46 0.32 1.44 1.56 0.56 1.52 2.03 0.65 0.63 1.96 0.53\n",
            " 0.47 0.29 2.21 1.69 1.64 1.49 1.72 1.58 0.57 1.61 0.28 2.   1.63 0.27\n",
            " 1.94 0.5  0.49 0.4  0.38]\n",
            "\n",
            "\n",
            "FTI_measured\n",
            "['y', 'n']\n",
            "Categories (2, object): ['y', 'n']\n",
            "\n",
            "\n",
            "FTI\n",
            "[ 10.   17.    0.    6.   44.   23.   63.   32.    7.5  61.   41.   76.\n",
            "  45.   34.   81.   11.   16.   46.   22.   12.    5.   47.   29.   37.\n",
            "  60.    8.4   8.5  24.   28.    7.   49.   36.   15.    9.   80.   53.\n",
            "   7.2  68.    6.6  48.   21.   14.    2.   20.    1.4  56.    3.   51.\n",
            "  13.   43.   78.   52.   64.   26.   35.   31.  133.    3.4  54.    8.9\n",
            "  57.    5.5  58.   55.    2.8  66.    4.   40.   50.    8.7  87.   89.\n",
            " 112.  123.   99.   92.  104.   69.  196.  107.  106.   74.   97.    nan\n",
            " 122.   84.  114.  124.  241.  119.  120.  136.   85.  127.  839.  137.\n",
            " 197.   96.   77.  108.   82.   72.   94.   91.  240.  121.  109.   79.\n",
            " 100.   98.   73.  117.  165.  103.   88.  101.  126.  132.  128.  143.\n",
            " 152.  141.  186.  113.  102.  125.   93.  105.  159.  188.   71.  149.\n",
            " 116.   83.  176.  161.   86.  140.  111.  158.  115.  171.   90.   95.\n",
            "  70.  135.  134.  178.  110.  170.  205.  695.  155.  118.  741.  131.\n",
            " 129.  142.  153.   75.  254.  246.  139.  185.  157.  147.  164.  130.\n",
            " 222.  650.  174.  182.  144.  169.  257.  145.  345.  180.  167.  151.\n",
            " 154.  150.  219.  228.   65.  187.  166.  195.  208.  138.   33.  173.\n",
            " 146.  211.  181.  190.  247.  221.  395.  216.  212.  148.  162.  220.\n",
            " 370.  450.  160.   59.  189.  203.  168.  179.  264.  470.  184.  163.\n",
            "  67.  213.  354.  292.  359.  172.  156.  334.  177.  214.  194.  192.\n",
            " 215.  217.  271.  250.  244.  308.  881.  258.  316.  200.  711.  256.\n",
            " 232.  202.   39.  248.  237.  259.  445.   19.  852.   42.  235.  634.\n",
            " 283.  305.  204.  229.  332.  550.  249.  263.  615.  266.  198.  175.\n",
            " 209.  299.  193.  227.  223.  337.  210.  272.  702.  218.  239.  355.\n",
            " 482.  347.  485.  612.  428. ]\n",
            "\n",
            "\n",
            "TBG_measured\n",
            "['n', 'y']\n",
            "Categories (2, object): ['n', 'y']\n",
            "\n",
            "\n",
            "TBG\n",
            "[  nan  28.   34.    0.   19.   30.   25.   48.   39.   31.   16.   21.\n",
            "  37.   40.   27.    3.1  38.  108.   20.   36.   17.   23.   35.   32.\n",
            "  63.    9.3  15.   26.   33.   41.  110.   22.   43.   53.   80.   47.\n",
            "  29.   13.   24.   18.   45.   86.   50.    8.4  52.   11.   12.   14.\n",
            "  65.    7.3   8.5  69.  122. ]\n",
            "\n",
            "\n"
          ]
        }
      ]
    },
    {
      "cell_type": "markdown",
      "metadata": {
        "id": "-db_-uKrXKUc"
      },
      "source": [
        "From the above code, we can see that,\n",
        "\n",
        "\n",
        "Numerical columns = [ ' age ' , ' TSH ' , ' T3 ' , ' TT4 ' , ' T4U ' , ' FTI ' , ' TBG ' ]\n",
        "\n",
        "Categorical columns = [ ' sex ' , ' on_thyroxine ' ,' query_on_thyroxine ' ,' on_antithyroid_medication ' , ' thyroid_surgery ' , ' query_hypothyroid ' , ' query_hyperthyroid ' , ' pregnant ' , 'sick ' , ' tumor ', ' lithium ' , ' goitre ' , ' TSH_measured ', ' T3_measured ' , ' TT4_measured ' , ' T4U_measured ' , ' FTI_measured' , ' TBG_measured ' ]"
      ]
    },
    {
      "cell_type": "code",
      "metadata": {
        "id": "OcdKlhfM5kqJ"
      },
      "source": [
        "# Replacing '?' with zeros\n",
        "\n",
        "hypothyroid['TBG'] = hypothyroid['TBG'].replace(['?'], 0)\n",
        "hypothyroid['TSH'] = hypothyroid['TSH'].replace(['?'], 0)\n",
        "hypothyroid['T3'] = hypothyroid['T3'].replace(['?'], 0)\n",
        "hypothyroid['TT4'] = hypothyroid['TT4'].replace(['?'], 0)\n",
        "hypothyroid['T4U'] = hypothyroid['T4U'].replace(['?'], 0)\n",
        "hypothyroid['FTI'] = hypothyroid['FTI'].replace(['?'], 0)\n"
      ],
      "execution_count": 289,
      "outputs": []
    },
    {
      "cell_type": "code",
      "metadata": {
        "id": "Qzo-Z6fR8BIt"
      },
      "source": [
        "# Replace '?' with mean age\n",
        "\n",
        "hypothyroid['age'] = hypothyroid['age'].replace(['?'], 0)"
      ],
      "execution_count": 290,
      "outputs": []
    },
    {
      "cell_type": "code",
      "metadata": {
        "id": "qa5nOWH_Zofn",
        "colab": {
          "base_uri": "https://localhost:8080/"
        },
        "outputId": "567db80e-a6cc-45ac-ab63-e94174029488"
      },
      "source": [
        "# Changing the column datatypes to the correct ones\n",
        "\n",
        "num_col = ['age', 'T3','TSH', 'TT4', 'T4U', 'FTI' , 'TBG']\n",
        "                                 \n",
        "for column in hypothyroid.columns:\n",
        "  if column in num_col :\n",
        "    hypothyroid[column] = pd.to_numeric(hypothyroid[column])\n",
        "\n",
        "hypothyroid.dtypes"
      ],
      "execution_count": 291,
      "outputs": [
        {
          "output_type": "execute_result",
          "data": {
            "text/plain": [
              "status                       category\n",
              "age                           float64\n",
              "sex                            object\n",
              "on_thyroxine                   object\n",
              "query_on_thyroxine             object\n",
              "on_antithyroid_medication      object\n",
              "thyroid_surgery                object\n",
              "query_hypothyroid              object\n",
              "query_hyperthyroid             object\n",
              "pregnant                       object\n",
              "sick                           object\n",
              "tumor                          object\n",
              "lithium                        object\n",
              "goitre                         object\n",
              "TSH_measured                   object\n",
              "TSH                             int64\n",
              "T3_measured                    object\n",
              "T3                              int64\n",
              "TT4_measured                   object\n",
              "TT4                             int64\n",
              "T4U_measured                   object\n",
              "T4U                             int64\n",
              "FTI_measured                   object\n",
              "FTI                             int64\n",
              "TBG_measured                   object\n",
              "TBG                             int64\n",
              "dtype: object"
            ]
          },
          "metadata": {},
          "execution_count": 291
        }
      ]
    },
    {
      "cell_type": "code",
      "metadata": {
        "id": "5F1U6uQ5JftG"
      },
      "source": [
        "hypothyroid['age'] = hypothyroid['age'].fillna(hypothyroid['age'].mean(), axis=0)"
      ],
      "execution_count": 292,
      "outputs": []
    },
    {
      "cell_type": "code",
      "metadata": {
        "id": "8mczKTwIjijt"
      },
      "source": [
        "# Replacing NaN values in the sex column with the modal value\n",
        "\n",
        "hypothyroid['sex']= hypothyroid['sex'].fillna(hypothyroid['sex'].mode(), axis = 0)\n",
        "\n"
      ],
      "execution_count": 293,
      "outputs": []
    },
    {
      "cell_type": "code",
      "metadata": {
        "colab": {
          "base_uri": "https://localhost:8080/",
          "height": 640
        },
        "id": "Zjx81laP-811",
        "outputId": "5c3d909e-a5e6-4549-8f01-2c60f49c1230"
      },
      "source": [
        "# Checking for outliers\n",
        "\n",
        "num_col = [ 'age' , 'TSH' , 'T3' , 'TT4' , 'T4U' , 'FTI' , 'TBG' ]\n",
        "#colors = ['orange', 'red', 'green', 'yellow', 'pink', 'fuchsia']\n",
        "fig, axes = plt.subplots(nrows= 3, ncols= 2, figsize = (15,10))\n",
        "plt.suptitle('Checking for Outliers', fontsize = 15, y=0.92, color = 'black')\n",
        "for ax, data, column in zip(axes.flatten(),hypothyroid, num_col):\n",
        "  sb.boxplot(hypothyroid[column], ax=ax)\n",
        "  ax.set_facecolor('lavender')\n",
        "\n"
      ],
      "execution_count": 294,
      "outputs": [
        {
          "output_type": "display_data",
          "data": {
            "image/png": "[encoded data removed]",
            "text/plain": [
              "<Figure size 1080x720 with 6 Axes>"
            ]
          },
          "metadata": {
            "needs_background": "light"
          }
        }
      ]
    },
    {
      "cell_type": "markdown",
      "metadata": {
        "id": "YSn8GADhBg1G"
      },
      "source": [
        "Only the age column does not have outliers "
      ]
    },
    {
      "cell_type": "markdown",
      "metadata": {
        "id": "V56LZpSXvOwT"
      },
      "source": [
        "\n",
        "## **Exploratory Analysis**\n",
        "\n",
        "### **Univariate Analysis**"
      ]
    },
    {
      "cell_type": "code",
      "metadata": {
        "id": "38vACfMi23HE",
        "colab": {
          "base_uri": "https://localhost:8080/"
        },
        "outputId": "bc6806ba-e9cd-4790-b340-60cfd99db417"
      },
      "source": [
        "# Checking the column of status\n",
        "hypothyroid.status.describe()"
      ],
      "execution_count": 295,
      "outputs": [
        {
          "output_type": "execute_result",
          "data": {
            "text/plain": [
              "count         3079\n",
              "unique           2\n",
              "top       negative\n",
              "freq          2938\n",
              "Name: status, dtype: object"
            ]
          },
          "metadata": {},
          "execution_count": 295
        }
      ]
    },
    {
      "cell_type": "code",
      "metadata": {
        "id": "Lbr_wR3VJskK",
        "colab": {
          "base_uri": "https://localhost:8080/",
          "height": 353
        },
        "outputId": "396b1298-57fd-40c7-d70d-b728c5273d9b"
      },
      "source": [
        "# Understanding the age of the patients\n",
        "\n",
        "print(hypothyroid['age'].mean())\n",
        "print('\\n')\n",
        "size, scale = 1000, 10\n",
        "age = hypothyroid['age']\n",
        "\n",
        "age.plot.hist(grid=True, bins=20, rwidth=0.9,\n",
        "                   color='grey')\n",
        "plt.title('Patients Age Distribution')\n",
        "plt.xlabel('Age')\n",
        "plt.ylabel('Counts')\n",
        "plt.grid(axis='y', alpha=0.75)"
      ],
      "execution_count": 296,
      "outputs": [
        {
          "output_type": "stream",
          "name": "stdout",
          "text": [
            "51.12003029155589\n",
            "\n",
            "\n"
          ]
        },
        {
          "output_type": "display_data",
          "data": {
            "image/png": "[encoded data removed]",
            "text/plain": [
              "<Figure size 432x288 with 1 Axes>"
            ]
          },
          "metadata": {
            "needs_background": "light"
          }
        }
      ]
    },
    {
      "cell_type": "markdown",
      "metadata": {
        "id": "gwFP0YvLdnYT"
      },
      "source": [
        "The distribution is fairly normal. The distribution is more concentrated around the mean"
      ]
    },
    {
      "cell_type": "code",
      "metadata": {
        "id": "pyrBZzJVWgcI",
        "colab": {
          "base_uri": "https://localhost:8080/",
          "height": 305
        },
        "outputId": "315fccec-8d40-41e7-e2d2-1ab4371a7c7d"
      },
      "source": [
        "#visualizing the distribution of gender in the dataset\n",
        "sb.countplot('sex',data = hypothyroid_7)\n",
        "plt.xlabel(\"sex\",fontsize=15)\n",
        "plt.ylabel(\"COUNT\",fontsize=15)\n",
        "plt.title(\"Countplot of Gender\",fontsize=16,color=\"white\")\n",
        "plt.show()\n",
        "#"
      ],
      "execution_count": 297,
      "outputs": [
        {
          "output_type": "display_data",
          "data": {
            "image/png": "[encoded data removed]",
            "text/plain": [
              "<Figure size 432x288 with 1 Axes>"
            ]
          },
          "metadata": {
            "needs_background": "light"
          }
        }
      ]
    },
    {
      "cell_type": "markdown",
      "metadata": {
        "id": "gTX0iDGZDNae"
      },
      "source": [
        "There are more female patients than the male patients.\n"
      ]
    },
    {
      "cell_type": "markdown",
      "metadata": {
        "id": "7AzE4kIZxgn5"
      },
      "source": [
        "### **Visualizing the other numeric columns**"
      ]
    },
    {
      "cell_type": "code",
      "metadata": {
        "id": "VhUAnHHugr0D",
        "colab": {
          "base_uri": "https://localhost:8080/",
          "height": 893
        },
        "outputId": "2bd05784-2f31-4662-8552-cabde465fea5"
      },
      "source": [
        "# Visualizing their distributions using histograms\n",
        "sb.set_style('darkgrid')\n",
        "fig, axes = plt.subplots(nrows=3, ncols = 2, figsize = (12, 12))\n",
        "fig.suptitle('Histogram of Numerical Values', y= 1.01, color = 'blue', fontsize = 15, weight = 'bold')\n",
        "\n",
        "for ax, data, name in zip(axes.flatten(), hypothyroid_7, num_col):\n",
        "  sb.distplot(hypothyroid_7[name], ax = ax, kde = True, color = 'blue')\n",
        "plt.tight_layout()\n",
        "plt.show()"
      ],
      "execution_count": 298,
      "outputs": [
        {
          "output_type": "display_data",
          "data": {
            "image/png": "[encoded data removed]",
            "text/plain": [
              "<Figure size 864x864 with 6 Axes>"
            ]
          },
          "metadata": {}
        }
      ]
    },
    {
      "cell_type": "markdown",
      "metadata": {
        "id": "HiaxaRXMzJxW"
      },
      "source": [
        "TSH, T3,TT4, and FTI Columns are rightly skewed.\n",
        "\n",
        "T4U has a fairly normal distribution."
      ]
    },
    {
      "cell_type": "markdown",
      "metadata": {
        "id": "EcJA148Ightq"
      },
      "source": [
        "##Other Categorical Columns:"
      ]
    },
    {
      "cell_type": "markdown",
      "metadata": {
        "id": "c_9wCdPJxcW9"
      },
      "source": [
        "#####Countplots"
      ]
    },
    {
      "cell_type": "code",
      "metadata": {
        "id": "FUzYS0xhwQgm",
        "colab": {
          "base_uri": "https://localhost:8080/",
          "height": 1000
        },
        "outputId": "668ebf61-fd6c-4411-b331-1ca82b4074d1"
      },
      "source": [
        "# Countplot of categorical columns in the dataset\n",
        "# creating a list of the categorical columns in the dataset\n",
        "\n",
        "categorical_columns =[ 'sex', 'on_thyroxine', 'query_on_thyroxine',\n",
        "      'on_antithyroid_medication', 'thyroid_surgery', 'query_hypothyroid',\n",
        "      'query_hyperthyroid', 'pregnant', 'sick', 'tumor', 'lithium', 'goitre',\n",
        "      'TSH_measured', 'T3_measured', 'TT4_measured',\n",
        "      'T4U_measured', 'FTI_measured', 'TBG_measured']\n",
        "\n",
        "\n",
        "sb.set(style = 'darkgrid', context = 'notebook')\n",
        "corr = hypothyroid.corr()\n",
        "fig, axes = plt.subplots(nrows=6, ncols=3, figsize=(20,25))\n",
        "plt.suptitle('Countplots of Categorical Columns', fontsize = 18, y = 1, color = 'blue')\n",
        "for ax, data, column in zip(axes.flatten(), hypothyroid, categorical_columns):\n",
        "   sb.countplot(hypothyroid[column], ax=ax)"
      ],
      "execution_count": 374,
      "outputs": [
        {
          "output_type": "display_data",
          "data": {
            "image/png": "[encoded data removed]",
            "text/plain": [
              "<Figure size 1440x1800 with 18 Axes>"
            ]
          },
          "metadata": {}
        }
      ]
    },
    {
      "cell_type": "markdown",
      "metadata": {
        "id": "vTbdjSrhVIiT"
      },
      "source": [
        "# Bivariate Analysis"
      ]
    },
    {
      "cell_type": "markdown",
      "metadata": {
        "id": "E-lll10KgoGw"
      },
      "source": [
        "## Checking for Multi-collinearity"
      ]
    },
    {
      "cell_type": "code",
      "metadata": {
        "id": "X2hz5CvSg2Rd",
        "colab": {
          "base_uri": "https://localhost:8080/",
          "height": 238
        },
        "outputId": "18f654e2-b47b-4811-8f58-9fdee1f7031b"
      },
      "source": [
        "# Let's display the correlations between the variables\n",
        "corr = hypothyroid_7.corr()\n",
        "corr"
      ],
      "execution_count": 300,
      "outputs": [
        {
          "output_type": "execute_result",
          "data": {
            "text/html": [
              "<div>\n",
              "<style scoped>\n",
              "    .dataframe tbody tr th:only-of-type {\n",
              "        vertical-align: middle;\n",
              "    }\n",
              "\n",
              "    .dataframe tbody tr th {\n",
              "        vertical-align: top;\n",
              "    }\n",
              "\n",
              "    .dataframe thead th {\n",
              "        text-align: right;\n",
              "    }\n",
              "</style>\n",
              "<table border=\"1\" class=\"dataframe\">\n",
              "  <thead>\n",
              "    <tr style=\"text-align: right;\">\n",
              "      <th></th>\n",
              "      <th>age</th>\n",
              "      <th>TSH</th>\n",
              "      <th>T3</th>\n",
              "      <th>TT4</th>\n",
              "      <th>T4U</th>\n",
              "      <th>FTI</th>\n",
              "    </tr>\n",
              "  </thead>\n",
              "  <tbody>\n",
              "    <tr>\n",
              "      <th>age</th>\n",
              "      <td>1.000000</td>\n",
              "      <td>0.008882</td>\n",
              "      <td>-0.092772</td>\n",
              "      <td>-0.024667</td>\n",
              "      <td>-0.063006</td>\n",
              "      <td>0.057734</td>\n",
              "    </tr>\n",
              "    <tr>\n",
              "      <th>TSH</th>\n",
              "      <td>0.008882</td>\n",
              "      <td>1.000000</td>\n",
              "      <td>-0.092486</td>\n",
              "      <td>-0.242139</td>\n",
              "      <td>0.089875</td>\n",
              "      <td>-0.199480</td>\n",
              "    </tr>\n",
              "    <tr>\n",
              "      <th>T3</th>\n",
              "      <td>-0.092772</td>\n",
              "      <td>-0.092486</td>\n",
              "      <td>1.000000</td>\n",
              "      <td>0.463470</td>\n",
              "      <td>0.417634</td>\n",
              "      <td>0.290009</td>\n",
              "    </tr>\n",
              "    <tr>\n",
              "      <th>TT4</th>\n",
              "      <td>-0.024667</td>\n",
              "      <td>-0.242139</td>\n",
              "      <td>0.463470</td>\n",
              "      <td>1.000000</td>\n",
              "      <td>0.546467</td>\n",
              "      <td>0.738844</td>\n",
              "    </tr>\n",
              "    <tr>\n",
              "      <th>T4U</th>\n",
              "      <td>-0.063006</td>\n",
              "      <td>0.089875</td>\n",
              "      <td>0.417634</td>\n",
              "      <td>0.546467</td>\n",
              "      <td>1.000000</td>\n",
              "      <td>0.100747</td>\n",
              "    </tr>\n",
              "    <tr>\n",
              "      <th>FTI</th>\n",
              "      <td>0.057734</td>\n",
              "      <td>-0.199480</td>\n",
              "      <td>0.290009</td>\n",
              "      <td>0.738844</td>\n",
              "      <td>0.100747</td>\n",
              "      <td>1.000000</td>\n",
              "    </tr>\n",
              "  </tbody>\n",
              "</table>\n",
              "</div>"
            ],
            "text/plain": [
              "          age       TSH        T3       TT4       T4U       FTI\n",
              "age  1.000000  0.008882 -0.092772 -0.024667 -0.063006  0.057734\n",
              "TSH  0.008882  1.000000 -0.092486 -0.242139  0.089875 -0.199480\n",
              "T3  -0.092772 -0.092486  1.000000  0.463470  0.417634  0.290009\n",
              "TT4 -0.024667 -0.242139  0.463470  1.000000  0.546467  0.738844\n",
              "T4U -0.063006  0.089875  0.417634  0.546467  1.000000  0.100747\n",
              "FTI  0.057734 -0.199480  0.290009  0.738844  0.100747  1.000000"
            ]
          },
          "metadata": {},
          "execution_count": 300
        }
      ]
    },
    {
      "cell_type": "code",
      "metadata": {
        "id": "SDIJl0ariwws",
        "colab": {
          "base_uri": "https://localhost:8080/",
          "height": 598
        },
        "outputId": "6e3f0a33-580a-4384-e6a6-d4fbeb4d111b"
      },
      "source": [
        "#visualizing correlation on a heatmap\n",
        "plt.figure(figsize=(15,10))\n",
        "sb.heatmap(corr, annot = True)\n",
        "plt.show()"
      ],
      "execution_count": 301,
      "outputs": [
        {
          "output_type": "display_data",
          "data": {
            "image/png": "[encoded data removed]",
            "text/plain": [
              "<Figure size 1080x720 with 2 Axes>"
            ]
          },
          "metadata": {}
        }
      ]
    },
    {
      "cell_type": "markdown",
      "metadata": {
        "id": "seXw2jQUlp1J"
      },
      "source": [
        "From the heat map above there are no strong correlation between the numerical values."
      ]
    },
    {
      "cell_type": "markdown",
      "metadata": {
        "id": "e52EgySvmuM9"
      },
      "source": [
        "# Modelling\n"
      ]
    },
    {
      "cell_type": "markdown",
      "metadata": {
        "id": "XOFv7Rbuq1Lv"
      },
      "source": [
        "### **The Base Model: Logistic Regression**"
      ]
    },
    {
      "cell_type": "code",
      "metadata": {
        "colab": {
          "base_uri": "https://localhost:8080/"
        },
        "id": "s6kOjVFmhqXj",
        "outputId": "e7f2b100-0387-404a-84b0-83c6071f7a23"
      },
      "source": [
        "from sklearn.preprocessing import LabelEncoder\n",
        "\n",
        "label_encoder = LabelEncoder()\n",
        "\n",
        "hypothyroid['sex'] = label_encoder.fit_transform(hypothyroid['sex'])\n",
        "hypothyroid['on_thyroxine'] = label_encoder.fit_transform(hypothyroid['on_thyroxine'])\n",
        "hypothyroid['query_on_thyroxine'] = label_encoder.fit_transform(hypothyroid['query_on_thyroxine'])\n",
        "hypothyroid['on_antithyroid_medication'] = label_encoder.fit_transform(hypothyroid['on_antithyroid_medication'])\n",
        "hypothyroid['thyroid_surgery'] = label_encoder.fit_transform(hypothyroid['thyroid_surgery'])\n",
        "hypothyroid['query_hypothyroid'] = label_encoder.fit_transform(hypothyroid['query_hypothyroid'])\n",
        "hypothyroid['pregnant'] = label_encoder.fit_transform(hypothyroid['pregnant'])\n",
        "hypothyroid['tumor'] = label_encoder.fit_transform(hypothyroid['tumor'])\n",
        "hypothyroid['lithium'] = label_encoder.fit_transform(hypothyroid['lithium'])\n",
        "hypothyroid['goitre'] = label_encoder.fit_transform(hypothyroid['goitre'])\n",
        "hypothyroid['TSH_measured'] = label_encoder.fit_transform(hypothyroid['TSH_measured'])\n",
        "hypothyroid['T3_measured'] = label_encoder.fit_transform(hypothyroid['T3_measured'])\n",
        "hypothyroid['TT4_measured'] = label_encoder.fit_transform(hypothyroid['TT4_measured'])\n",
        "hypothyroid['T4U_measured'] = label_encoder.fit_transform(hypothyroid['T4U_measured'])\n",
        "hypothyroid['FTI_measured'] = label_encoder.fit_transform(hypothyroid['FTI_measured'])\n",
        "hypothyroid['TBG_measured'] = label_encoder.fit_transform(hypothyroid['TBG_measured'])\n",
        "hypothyroid['status'] = label_encoder.fit_transform(hypothyroid['status'])\n",
        "\n",
        "\n",
        "hypothyroid.dtypes"
      ],
      "execution_count": 388,
      "outputs": [
        {
          "output_type": "execute_result",
          "data": {
            "text/plain": [
              "status                         int64\n",
              "age                          float64\n",
              "sex                            int64\n",
              "on_thyroxine                   int64\n",
              "query_on_thyroxine             int64\n",
              "on_antithyroid_medication      int64\n",
              "thyroid_surgery                int64\n",
              "query_hypothyroid              int64\n",
              "query_hyperthyroid            object\n",
              "pregnant                       int64\n",
              "sick                          object\n",
              "tumor                          int64\n",
              "lithium                        int64\n",
              "goitre                         int64\n",
              "TSH_measured                   int64\n",
              "TSH                            int64\n",
              "T3_measured                    int64\n",
              "T3                             int64\n",
              "TT4_measured                   int64\n",
              "TT4                            int64\n",
              "T4U_measured                   int64\n",
              "T4U                            int64\n",
              "FTI_measured                   int64\n",
              "FTI                            int64\n",
              "TBG_measured                   int64\n",
              "TBG                            int64\n",
              "dtype: object"
            ]
          },
          "metadata": {},
          "execution_count": 388
        }
      ]
    },
    {
      "cell_type": "code",
      "metadata": {
        "id": "wx_b5BeOmfj7"
      },
      "source": [
        "from sklearn.linear_model import LogisticRegression\n",
        "\n",
        "X = hypothyroid.drop(['status'], axis= 1)\n",
        "\n",
        "X = pd.get_dummies(X)\n",
        "\n",
        "y= hypothyroid['status'].values\n",
        "\n",
        "# Split the independent and dependent variables\n",
        "\n",
        "X_train, X_test, y_train, y_test = train_test_split(X, y, test_size=0.3, random_state=0)\n",
        "\n",
        "# Fitting the model\n",
        "LogReg = LogisticRegression()\n",
        "LogReg.fit(X_train, y_train)\n",
        "\n",
        "# Predicting \n",
        "y_pred = LogReg.predict(X_test)\n"
      ],
      "execution_count": 392,
      "outputs": []
    },
    {
      "cell_type": "code",
      "metadata": {
        "id": "6xRMXzk4rLvf",
        "colab": {
          "base_uri": "https://localhost:8080/"
        },
        "outputId": "6ac541db-8725-4aff-921e-1deb39da65cb"
      },
      "source": [
        "print('accuracy_score:',accuracy_score (y_test , y_pred))\n",
        "\n",
        "confusion_matrix = confusion_matrix(y_test, y_pred)\n",
        "confusion_matrix"
      ],
      "execution_count": 393,
      "outputs": [
        {
          "output_type": "stream",
          "name": "stdout",
          "text": [
            "accuracy_score: 0.9859307359307359\n"
          ]
        },
        {
          "output_type": "execute_result",
          "data": {
            "text/plain": [
              "array([[ 29,  10],\n",
              "       [  3, 882]])"
            ]
          },
          "metadata": {},
          "execution_count": 393
        }
      ]
    },
    {
      "cell_type": "markdown",
      "metadata": {
        "id": "YPQOm--ASpca"
      },
      "source": [
        "The accuracy of the Logistic Regression is 98.5%\n"
      ]
    },
    {
      "cell_type": "markdown",
      "metadata": {
        "id": "vOuLo5z-m5O4"
      },
      "source": [
        "## **Decision Trees**"
      ]
    },
    {
      "cell_type": "markdown",
      "metadata": {
        "id": "mz45Z6pkmovG"
      },
      "source": [
        "### **Random forests**"
      ]
    },
    {
      "cell_type": "markdown",
      "metadata": {
        "id": "01_gdCz8m6VK"
      },
      "source": [
        "### **Ada boosted trees**"
      ]
    },
    {
      "cell_type": "code",
      "metadata": {
        "id": "YeaG4GhpTi3w"
      },
      "source": [
        "# Splittting the features and target\n",
        "X = hypothyroid.drop(['status'], axis= 1)\n",
        "\n",
        "X = pd.get_dummies(X)\n",
        "\n",
        "y= hypothyroid['status'].values\n",
        "\n",
        "# Splitting the test and training features\n",
        "\n",
        "X_train, X_test, y_train, y_test = train_test_split(X,y, test_size=0.2, random_state=42)"
      ],
      "execution_count": 394,
      "outputs": []
    },
    {
      "cell_type": "code",
      "metadata": {
        "id": "X5x-pPiwnPmy",
        "colab": {
          "base_uri": "https://localhost:8080/"
        },
        "outputId": "219608b3-f93b-40dc-c1a5-37448161f283"
      },
      "source": [
        "from sklearn.ensemble import AdaBoostClassifier\n",
        "from sklearn.tree import DecisionTreeClassifier\n",
        "\n",
        "# Fitting the model \n",
        "\n",
        "ada_boost = AdaBoostClassifier(DecisionTreeClassifier(max_depth=4),\n",
        "                          n_estimators=300, random_state=42)\n",
        "\n",
        "ada_boost = ada_boost.fit(X_train, y_train)\n",
        "\n",
        "# Predicting using the model\n",
        "\n",
        "y_pred_ada = ada_boost.predict(X_test)\n",
        "\n",
        "# Checking the accuracy score\n",
        "print('accuracy_score:', accuracy_score(y_test, y_pred_ada))"
      ],
      "execution_count": 395,
      "outputs": [
        {
          "output_type": "stream",
          "name": "stdout",
          "text": [
            "accuracy_score: 0.9886363636363636\n"
          ]
        }
      ]
    },
    {
      "cell_type": "code",
      "metadata": {
        "colab": {
          "base_uri": "https://localhost:8080/"
        },
        "id": "WMs_Zo8MUMKM",
        "outputId": "a2faaecb-a97e-46a0-af6e-774624d8b2c1"
      },
      "source": [
        "# Checking the confusion matrix\n",
        "from sklearn.metrics import confusion_matrix\n",
        "\n",
        "confusion_matrix = confusion_matrix(y_test, y_pred_ada)\n",
        "confusion_matrix"
      ],
      "execution_count": 396,
      "outputs": [
        {
          "output_type": "execute_result",
          "data": {
            "text/plain": [
              "array([[ 26,   4],\n",
              "       [  3, 583]])"
            ]
          },
          "metadata": {},
          "execution_count": 396
        }
      ]
    },
    {
      "cell_type": "markdown",
      "metadata": {
        "id": "XHRngUdCm_Ef"
      },
      "source": [
        "### **Gradient Boosted Trees**"
      ]
    },
    {
      "cell_type": "code",
      "metadata": {
        "id": "XKtocc96R6gU"
      },
      "source": [
        "# Importing required libraries\n",
        "\n",
        "from sklearn.ensemble import GradientBoostingClassifier\n",
        "\n",
        "# Splitting the test and training features\n",
        "\n",
        "X_train, X_test, y_train, y_test = train_test_split(X,y, test_size=0.2, random_state=42)"
      ],
      "execution_count": 397,
      "outputs": []
    },
    {
      "cell_type": "code",
      "metadata": {
        "id": "59jcW5zvnkgP",
        "colab": {
          "base_uri": "https://localhost:8080/"
        },
        "outputId": "961c9ba8-dc39-416e-e84f-6d69b400c6f9"
      },
      "source": [
        "\n",
        "# Fitting the model\n",
        "\n",
        "gbc = GradientBoostingClassifier(n_estimators= 300, learning_rate=0.1, max_depth=5)\n",
        "gbc = gbc.fit(X_train, y_train)\n",
        "\n",
        "# Predicting using the model\n",
        "y_pred_gbc = gbc.predict(X_test)\n",
        "\n",
        "# Checking the accuracy of the score\n",
        "print('accuracy_score:',accuracy_score (y_test , y_pred_gbc))"
      ],
      "execution_count": 398,
      "outputs": [
        {
          "output_type": "stream",
          "name": "stdout",
          "text": [
            "accuracy_score: 0.9886363636363636\n"
          ]
        }
      ]
    },
    {
      "cell_type": "code",
      "metadata": {
        "id": "ZoPRwdOPtr4f",
        "colab": {
          "base_uri": "https://localhost:8080/"
        },
        "outputId": "0463cf05-c63e-4754-ddb9-87c27f3fe2f6"
      },
      "source": [
        "# Checking the accuracy and the confusion matrix\n",
        "from sklearn.metrics import confusion_matrix\n",
        "\n",
        "confusion_matrix = confusion_matrix(y_test, y_pred_gbc)\n",
        "confusion_matrix"
      ],
      "execution_count": 399,
      "outputs": [
        {
          "output_type": "execute_result",
          "data": {
            "text/plain": [
              "array([[ 27,   3],\n",
              "       [  4, 582]])"
            ]
          },
          "metadata": {},
          "execution_count": 399
        }
      ]
    },
    {
      "cell_type": "markdown",
      "metadata": {
        "id": "Cl-dDVsbVr-O"
      },
      "source": [
        "Both decision trees have significantly high accuracy. "
      ]
    },
    {
      "cell_type": "markdown",
      "metadata": {
        "id": "lQ2G4ZPDVOXE"
      },
      "source": [
        "### **Support Vector Machines**"
      ]
    },
    {
      "cell_type": "markdown",
      "metadata": {
        "id": "unsVNbqRl1dD"
      },
      "source": [
        "### **Polynomial SVM**"
      ]
    },
    {
      "cell_type": "code",
      "metadata": {
        "id": "B3bTUSjxWAq6"
      },
      "source": [
        "# Splittting the features and target\n",
        "X = hypothyroid.drop(['status'], axis= 1)\n",
        "\n",
        "X = pd.get_dummies(X)\n",
        "\n",
        "y= hypothyroid['status'].values\n",
        "\n",
        "# Splitting the test and training features\n",
        "\n",
        "X_train, X_test, y_train, y_test = train_test_split(X,y, test_size=0.2, random_state=42)"
      ],
      "execution_count": 401,
      "outputs": []
    },
    {
      "cell_type": "code",
      "metadata": {
        "id": "1xkguxPLKktA",
        "colab": {
          "base_uri": "https://localhost:8080/"
        },
        "outputId": "8f6e2078-381b-4830-e583-b69f76dc59ff"
      },
      "source": [
        "# Importing the required Libraries\n",
        "from sklearn.model_selection import GridSearchCV\n",
        "from sklearn.svm import SVC\n",
        "\n",
        "# Building the model \n",
        "polyclassifier = SVC(kernel='poly',degree=3,gamma='auto')\n",
        "# Training the model using the training set\n",
        "polyclassifier.fit(X_train, y_train)"
      ],
      "execution_count": 402,
      "outputs": [
        {
          "output_type": "execute_result",
          "data": {
            "text/plain": [
              "SVC(gamma='auto', kernel='poly')"
            ]
          },
          "metadata": {},
          "execution_count": 402
        }
      ]
    },
    {
      "cell_type": "code",
      "metadata": {
        "id": "FutKT0sluuBg",
        "colab": {
          "base_uri": "https://localhost:8080/"
        },
        "outputId": "34d50c33-3fd9-47b3-8e55-d2283b28949b"
      },
      "source": [
        "from sklearn.metrics import confusion_matrix\n",
        "# making prediction\n",
        "y_pred = polyclassifier.predict(X_test)\n",
        "\n",
        "# Model Evaluation\n",
        "print( accuracy_score(y_test, y_pred))\n",
        "print(confusion_matrix(y_test, y_pred))"
      ],
      "execution_count": 403,
      "outputs": [
        {
          "output_type": "stream",
          "name": "stdout",
          "text": [
            "0.9756493506493507\n",
            "[[ 26   4]\n",
            " [ 11 575]]\n"
          ]
        }
      ]
    },
    {
      "cell_type": "markdown",
      "metadata": {
        "id": "bq3JzTywmDuz"
      },
      "source": [
        "### **Linear SVM**"
      ]
    },
    {
      "cell_type": "code",
      "metadata": {
        "id": "X8zhNYSOlT0g"
      },
      "source": [
        "from sklearn.svm import SVC\n",
        "\n",
        "# Fitting the model\n",
        "\n",
        "hypo_model = SVC(kernel = 'linear')\n",
        "\n",
        "# training the model\n",
        "hypo_model.fit(X_train, y_train)\n",
        "\n",
        "# Predicting\n",
        "y_pred = hypo_model.predict(X_test)\n"
      ],
      "execution_count": 404,
      "outputs": []
    },
    {
      "cell_type": "code",
      "metadata": {
        "colab": {
          "base_uri": "https://localhost:8080/"
        },
        "id": "5vlbOHSCZzAi",
        "outputId": "b9b167d6-91d4-4aa4-dcda-888ea7bd1c5d"
      },
      "source": [
        "# Checking the accuracy of the model\n",
        "model_accuracy = accuracy_score(y_test, y_pred)\n",
        "print(model_accuracy)\n",
        "\n",
        "\n",
        "# Checking the confusion matrix\n",
        "\n",
        "confusion_matrix = metrics.confusion_matrix(y_test, y_pred)\n",
        "\n",
        "print(confusion_matrix)"
      ],
      "execution_count": 405,
      "outputs": [
        {
          "output_type": "stream",
          "name": "stdout",
          "text": [
            "0.9805194805194806\n",
            "[[ 21   9]\n",
            " [  3 583]]\n"
          ]
        }
      ]
    },
    {
      "cell_type": "code",
      "metadata": {
        "colab": {
          "base_uri": "https://localhost:8080/",
          "height": 365
        },
        "id": "xeKQWZdNaLXk",
        "outputId": "658df946-0309-42ec-8c94-e6a394dc75a4"
      },
      "source": [
        "\n",
        "# Plot the parallels to the separating hyperplane that pass through the support vectors\n",
        "b = hypo_model.support_vectors_[0]\n",
        "yy_down = a * xx + (b[1] - a * b[0])\n",
        "b = hypo_model.support_vectors_[-1]\n",
        "yy_up = a * xx + (b[1] - a * b[0])\n",
        "\n",
        "# Look at the margins and support vectors\n",
        "sb.lmplot('age', 'TT4', data=hypothyroid, palette='Set1', fit_reg=False, scatter_kws={\"s\": 70})\n",
        "plt.plot(xx, yy, linewidth=2, color='black')\n",
        "plt.plot(xx, yy_down, 'k--') #'k--' indicates that we want to draw a black dotted line\n",
        "plt.plot(xx, yy_up, 'k--')\n",
        "plt.scatter(hypo_model.support_vectors_[:, 0], hypo_model.support_vectors_[:, 1],s=80, facecolors='none');"
      ],
      "execution_count": 406,
      "outputs": [
        {
          "output_type": "display_data",
          "data": {
            "image/png": "[encoded data removed]",
            "text/plain": [
              "<Figure size 360x360 with 1 Axes>"
            ]
          },
          "metadata": {}
        }
      ]
    },
    {
      "cell_type": "markdown",
      "metadata": {
        "id": "YU6KfCLYmOE0"
      },
      "source": [
        "### **Radial Basis Function**"
      ]
    },
    {
      "cell_type": "code",
      "metadata": {
        "id": "dqv0CyS1lZ7x",
        "colab": {
          "base_uri": "https://localhost:8080/"
        },
        "outputId": "2c7e3b08-2a76-455f-c933-66bc3e0428fd"
      },
      "source": [
        "\n",
        "# Building the model \n",
        "rbfclassifier = SVC(kernel='rbf')\n",
        "# Training the model using the training set\n",
        "rbfclassifier.fit(X_train, y_train)"
      ],
      "execution_count": 407,
      "outputs": [
        {
          "output_type": "execute_result",
          "data": {
            "text/plain": [
              "SVC()"
            ]
          },
          "metadata": {},
          "execution_count": 407
        }
      ]
    },
    {
      "cell_type": "code",
      "metadata": {
        "id": "K7Bu438Gu6yq"
      },
      "source": [
        "# making prediction\n",
        "y_pred = rbfclassifier.predict(X_test)"
      ],
      "execution_count": 408,
      "outputs": []
    },
    {
      "cell_type": "code",
      "metadata": {
        "colab": {
          "base_uri": "https://localhost:8080/"
        },
        "id": "mnhzPI9ccjT4",
        "outputId": "58f0311f-a45e-4b0b-a576-3cacc40b0762"
      },
      "source": [
        "from sklearn.metrics import confusion_matrix\n",
        "# Model Evaluation\n",
        "print( accuracy_score(y_test, y_pred))\n",
        "print(confusion_matrix(y_test, y_pred))"
      ],
      "execution_count": 409,
      "outputs": [
        {
          "output_type": "stream",
          "name": "stdout",
          "text": [
            "0.9756493506493507\n",
            "[[ 18  12]\n",
            " [  3 583]]\n"
          ]
        }
      ]
    },
    {
      "cell_type": "markdown",
      "metadata": {
        "id": "OZgrV24JdhZb"
      },
      "source": [
        "It is clear that the Polynomial kernel has the highest accuracy score of 98.5%."
      ]
    },
    {
      "cell_type": "markdown",
      "metadata": {
        "id": "2Vca-7WRPk1_"
      },
      "source": [
        "### **Challenging the Solution**"
      ]
    },
    {
      "cell_type": "code",
      "metadata": {
        "id": "OjtVz48MPjpP",
        "colab": {
          "base_uri": "https://localhost:8080/"
        },
        "outputId": "e5a5c077-89f3-4756-f4e2-18dfffee9649"
      },
      "source": [
        "# to get the most importantfeatures\n",
        "tree = forest.estimators_[50]\n",
        "\n",
        "features = X\n",
        "\n",
        "importances = list(tree.feature_importances_)\n",
        "feature_importances = [(feature, round(importance, 2)) for feature, importance \n",
        "                       in zip(features, importances)]\n",
        "# sort in descending order\n",
        "feature_importances = sorted(feature_importances, key = lambda x: x[1], \n",
        "                             reverse = True)\n",
        "[print('Variable: {:20} Importnace: {}'.format(*pair)) for pair in feature_importances];\n",
        "#the list below shows the most important features in the data and the value of how important they are.\n",
        "# the most important feature is TT4 and it accounts for 79% importance"
      ],
      "execution_count": 367,
      "outputs": [
        {
          "output_type": "stream",
          "name": "stdout",
          "text": [
            "Variable: FTI                  Importnace: 0.58\n",
            "Variable: TSH                  Importnace: 0.31\n",
            "Variable: T3                   Importnace: 0.05\n",
            "Variable: on_thyroxine_f       Importnace: 0.02\n",
            "Variable: age                  Importnace: 0.01\n",
            "Variable: sex_F                Importnace: 0.01\n",
            "Variable: T3_measured_n        Importnace: 0.01\n",
            "Variable: TT4                  Importnace: 0.0\n",
            "Variable: T4U                  Importnace: 0.0\n",
            "Variable: TBG                  Importnace: 0.0\n",
            "Variable: sex_?                Importnace: 0.0\n",
            "Variable: sex_M                Importnace: 0.0\n",
            "Variable: on_thyroxine_t       Importnace: 0.0\n",
            "Variable: query_on_thyroxine_f Importnace: 0.0\n",
            "Variable: query_on_thyroxine_t Importnace: 0.0\n",
            "Variable: on_antithyroid_medication_f Importnace: 0.0\n",
            "Variable: on_antithyroid_medication_t Importnace: 0.0\n",
            "Variable: thyroid_surgery_f    Importnace: 0.0\n",
            "Variable: thyroid_surgery_t    Importnace: 0.0\n",
            "Variable: query_hypothyroid_f  Importnace: 0.0\n",
            "Variable: query_hypothyroid_t  Importnace: 0.0\n",
            "Variable: query_hyperthyroid_f Importnace: 0.0\n",
            "Variable: query_hyperthyroid_t Importnace: 0.0\n",
            "Variable: pregnant_f           Importnace: 0.0\n",
            "Variable: pregnant_t           Importnace: 0.0\n",
            "Variable: sick_f               Importnace: 0.0\n",
            "Variable: sick_t               Importnace: 0.0\n",
            "Variable: tumor_f              Importnace: 0.0\n",
            "Variable: tumor_t              Importnace: 0.0\n",
            "Variable: lithium_f            Importnace: 0.0\n",
            "Variable: lithium_t            Importnace: 0.0\n",
            "Variable: goitre_f             Importnace: 0.0\n",
            "Variable: goitre_t             Importnace: 0.0\n",
            "Variable: TSH_measured_n       Importnace: 0.0\n",
            "Variable: TSH_measured_y       Importnace: 0.0\n",
            "Variable: T3_measured_y        Importnace: 0.0\n",
            "Variable: TT4_measured_n       Importnace: 0.0\n",
            "Variable: TT4_measured_y       Importnace: 0.0\n",
            "Variable: T4U_measured_n       Importnace: 0.0\n",
            "Variable: T4U_measured_y       Importnace: 0.0\n",
            "Variable: FTI_measured_n       Importnace: 0.0\n",
            "Variable: FTI_measured_y       Importnace: 0.0\n",
            "Variable: TBG_measured_n       Importnace: 0.0\n",
            "Variable: TBG_measured_y       Importnace: 0.0\n"
          ]
        }
      ]
    },
    {
      "cell_type": "code",
      "metadata": {
        "id": "XmxcEbRGXWoZ"
      },
      "source": [
        "#creating a new set of independent variables based on their importance\n",
        "X1 = hypothyroid[['TSH', 'FTI', 'age', 'T3','sex']]\n",
        "X1 = pd.get_dummies(X1)"
      ],
      "execution_count": 371,
      "outputs": []
    },
    {
      "cell_type": "code",
      "metadata": {
        "id": "5PjSAnuySWAp",
        "colab": {
          "base_uri": "https://localhost:8080/"
        },
        "outputId": "d9e22b64-452e-46e7-f068-8750ffb9bb97"
      },
      "source": [
        "X_train, X_test, y_train, y_test = train_test_split(X1, y, test_size=0.3, random_state=0)\n",
        "\n",
        "#from sklearn.ensemble import GradientBoostingClassifier\n",
        "from sklearn.ensemble import GradientBoostingClassifier\n",
        "\n",
        "\n",
        "gbc = GradientBoostingClassifier(n_estimators= 300, learning_rate=0.1, max_depth=5)\n",
        "gbc = gbc.fit(X_train, y_train)\n",
        "\n",
        "# Predicting using the model\n",
        "y_pred_gbc = gbc.predict(X_test)\n",
        "\n",
        "# Checking the accuracy of the score\n",
        "print('accuracy_score:',accuracy_score (y_test , y_pred_gbc))"
      ],
      "execution_count": 410,
      "outputs": [
        {
          "output_type": "stream",
          "name": "stdout",
          "text": [
            "accuracy_score: 0.9891774891774892\n"
          ]
        }
      ]
    },
    {
      "cell_type": "markdown",
      "metadata": {
        "id": "yCDJy74oX4nF"
      },
      "source": [
        "### **Conclusion**\n",
        "From our analysis, the important features are TSH, FTI, age, T3,sex.\n",
        "\n",
        "Using these important features gives an accuracy score of 98.9%. This means using the additional features underfits the data. \n"
      ]
    },
    {
      "cell_type": "code",
      "metadata": {
        "id": "EKwykNZZnxMJ"
      },
      "source": [
        ""
      ],
      "execution_count": null,
      "outputs": []
    }
  ]
}